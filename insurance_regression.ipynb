{
 "cells": [
  {
   "cell_type": "markdown",
   "id": "8c732bfb",
   "metadata": {},
   "source": [
    "## Health Insurance Prediction\n",
    "\n",
    "### Build Regression Models"
   ]
  },
  {
   "cell_type": "markdown",
   "id": "e95cdaf0",
   "metadata": {},
   "source": [
    "### Summary\n",
    "\n",
    "This is **Part 2** of the project **Health Insurance Prediction: Build Regression Models**.\n",
    "\n",
    "In this project I analyse <a href=\"https://https://www.kaggle.com/datasets/mirichoi0218/insurance\">Medical Cost Personal</a>\n",
    "dataset from <a href='https://www.kaggle.com/'>Kaggle</a>. \n",
    "\n",
    "The analysis covers **data visualization**, **feature engineering** and **building a linear regression model** to \n",
    "**predict insurance costs**.\n",
    "\n",
    "It is primarily based in Python, using Numpy and Pandas for data manipulation, Matplotlib and Seaborn for visualizations and \n",
    "sklearn for building the machine leaning models."
   ]
  },
  {
   "cell_type": "markdown",
   "id": "0eb13965",
   "metadata": {},
   "source": [
    "### About Dataset\n",
    "\n",
    "The **Insurance** dataset has **1338 observations and 7 attributes** and contains medical personal costs billed by a health \n",
    "insurance company. The data was extracted from online datasets available for the book \"Machine Learning with R\" by Brett Lantz.\n",
    "\n",
    "\n",
    "#### Attribute information\n",
    "\n",
    "- **age:** Age of primary beneficiary\n",
    "- **sex:** Insurance contractor gender, female, male\n",
    "- **bmi:** Body Mass Index, providing an understanding of body, weights that are relatively high or low relative to height,\n",
    "objective index of body weight (kg/m^2) using the ratio of height to weight, ideally 18.5 to 24.9\n",
    "- **children:** Number of children covered by health insurance / Number of dependents\n",
    "- **smoker:** Smoking\n",
    "- **region:** The beneficiary's residential area in the US, northeast, southeast, southwest, northwest.\n",
    "- **charges:** Individual medical costs billed by health insurance"
   ]
  },
  {
   "cell_type": "markdown",
   "id": "61779055",
   "metadata": {},
   "source": [
    "### Import libraries"
   ]
  },
  {
   "cell_type": "code",
   "execution_count": 1,
   "id": "ef041153",
   "metadata": {},
   "outputs": [],
   "source": [
    "import pandas as pd\n",
    "import numpy as np\n",
    "import matplotlib.pyplot as plt\n",
    "import seaborn as sns\n",
    "from scipy.stats import zscore\n",
    "from sklearn.preprocessing import MinMaxScaler\n",
    "from sklearn.model_selection import train_test_split\n",
    "from sklearn.linear_model import LinearRegression\n",
    "from sklearn.preprocessing import PolynomialFeatures\n",
    "from sklearn.ensemble import RandomForestRegressor\n",
    "from sklearn.metrics import mean_absolute_error, mean_squared_error, r2_score"
   ]
  },
  {
   "cell_type": "markdown",
   "id": "0d77a02a",
   "metadata": {},
   "source": [
    "### Load data"
   ]
  },
  {
   "cell_type": "code",
   "execution_count": 2,
   "id": "10c9d993",
   "metadata": {},
   "outputs": [
    {
     "name": "stdout",
     "output_type": "stream",
     "text": [
      "(1338, 7) \n",
      "\n"
     ]
    },
    {
     "data": {
      "text/html": [
       "<div>\n",
       "<style scoped>\n",
       "    .dataframe tbody tr th:only-of-type {\n",
       "        vertical-align: middle;\n",
       "    }\n",
       "\n",
       "    .dataframe tbody tr th {\n",
       "        vertical-align: top;\n",
       "    }\n",
       "\n",
       "    .dataframe thead th {\n",
       "        text-align: right;\n",
       "    }\n",
       "</style>\n",
       "<table border=\"1\" class=\"dataframe\">\n",
       "  <thead>\n",
       "    <tr style=\"text-align: right;\">\n",
       "      <th></th>\n",
       "      <th>age</th>\n",
       "      <th>sex</th>\n",
       "      <th>bmi</th>\n",
       "      <th>children</th>\n",
       "      <th>smoker</th>\n",
       "      <th>region</th>\n",
       "      <th>charges</th>\n",
       "    </tr>\n",
       "  </thead>\n",
       "  <tbody>\n",
       "    <tr>\n",
       "      <th>0</th>\n",
       "      <td>19</td>\n",
       "      <td>female</td>\n",
       "      <td>27.900</td>\n",
       "      <td>0</td>\n",
       "      <td>yes</td>\n",
       "      <td>southwest</td>\n",
       "      <td>16884.92400</td>\n",
       "    </tr>\n",
       "    <tr>\n",
       "      <th>1</th>\n",
       "      <td>18</td>\n",
       "      <td>male</td>\n",
       "      <td>33.770</td>\n",
       "      <td>1</td>\n",
       "      <td>no</td>\n",
       "      <td>southeast</td>\n",
       "      <td>1725.55230</td>\n",
       "    </tr>\n",
       "    <tr>\n",
       "      <th>2</th>\n",
       "      <td>28</td>\n",
       "      <td>male</td>\n",
       "      <td>33.000</td>\n",
       "      <td>3</td>\n",
       "      <td>no</td>\n",
       "      <td>southeast</td>\n",
       "      <td>4449.46200</td>\n",
       "    </tr>\n",
       "    <tr>\n",
       "      <th>3</th>\n",
       "      <td>33</td>\n",
       "      <td>male</td>\n",
       "      <td>22.705</td>\n",
       "      <td>0</td>\n",
       "      <td>no</td>\n",
       "      <td>northwest</td>\n",
       "      <td>21984.47061</td>\n",
       "    </tr>\n",
       "    <tr>\n",
       "      <th>4</th>\n",
       "      <td>32</td>\n",
       "      <td>male</td>\n",
       "      <td>28.880</td>\n",
       "      <td>0</td>\n",
       "      <td>no</td>\n",
       "      <td>northwest</td>\n",
       "      <td>3866.85520</td>\n",
       "    </tr>\n",
       "  </tbody>\n",
       "</table>\n",
       "</div>"
      ],
      "text/plain": [
       "   age     sex     bmi  children smoker     region      charges\n",
       "0   19  female  27.900         0    yes  southwest  16884.92400\n",
       "1   18    male  33.770         1     no  southeast   1725.55230\n",
       "2   28    male  33.000         3     no  southeast   4449.46200\n",
       "3   33    male  22.705         0     no  northwest  21984.47061\n",
       "4   32    male  28.880         0     no  northwest   3866.85520"
      ]
     },
     "execution_count": 2,
     "metadata": {},
     "output_type": "execute_result"
    }
   ],
   "source": [
    "# Retrieve data in a pandas dataframe\n",
    "insurance = pd.read_csv('insurance.csv')\n",
    "\n",
    "# Print the shape and the first rows\n",
    "print(insurance.shape, \"\\n\")\n",
    "insurance.head()"
   ]
  },
  {
   "cell_type": "markdown",
   "id": "325ea3c9",
   "metadata": {},
   "source": [
    "### Get columns info"
   ]
  },
  {
   "cell_type": "code",
   "execution_count": 3,
   "id": "827ac8f9",
   "metadata": {},
   "outputs": [
    {
     "name": "stdout",
     "output_type": "stream",
     "text": [
      "<class 'pandas.core.frame.DataFrame'>\n",
      "RangeIndex: 1338 entries, 0 to 1337\n",
      "Data columns (total 7 columns):\n",
      " #   Column    Non-Null Count  Dtype  \n",
      "---  ------    --------------  -----  \n",
      " 0   age       1338 non-null   int64  \n",
      " 1   sex       1338 non-null   object \n",
      " 2   bmi       1338 non-null   float64\n",
      " 3   children  1338 non-null   int64  \n",
      " 4   smoker    1338 non-null   object \n",
      " 5   region    1338 non-null   object \n",
      " 6   charges   1338 non-null   float64\n",
      "dtypes: float64(2), int64(2), object(3)\n",
      "memory usage: 73.3+ KB\n"
     ]
    }
   ],
   "source": [
    "insurance.info()"
   ]
  },
  {
   "cell_type": "markdown",
   "id": "4a845c86",
   "metadata": {},
   "source": [
    "The dataset has four numerical and three categorical columns."
   ]
  },
  {
   "cell_type": "markdown",
   "id": "f3768fd6",
   "metadata": {},
   "source": [
    "### Descriptive statistics"
   ]
  },
  {
   "cell_type": "code",
   "execution_count": 4,
   "id": "11c980e1",
   "metadata": {},
   "outputs": [
    {
     "data": {
      "text/html": [
       "<style type=\"text/css\">\n",
       "</style>\n",
       "<table id=\"T_03876\">\n",
       "  <thead>\n",
       "    <tr>\n",
       "      <th class=\"blank level0\" >&nbsp;</th>\n",
       "      <th id=\"T_03876_level0_col0\" class=\"col_heading level0 col0\" >age</th>\n",
       "      <th id=\"T_03876_level0_col1\" class=\"col_heading level0 col1\" >bmi</th>\n",
       "      <th id=\"T_03876_level0_col2\" class=\"col_heading level0 col2\" >children</th>\n",
       "      <th id=\"T_03876_level0_col3\" class=\"col_heading level0 col3\" >charges</th>\n",
       "    </tr>\n",
       "  </thead>\n",
       "  <tbody>\n",
       "    <tr>\n",
       "      <th id=\"T_03876_level0_row0\" class=\"row_heading level0 row0\" >count</th>\n",
       "      <td id=\"T_03876_row0_col0\" class=\"data row0 col0\" >1338.00</td>\n",
       "      <td id=\"T_03876_row0_col1\" class=\"data row0 col1\" >1338.00</td>\n",
       "      <td id=\"T_03876_row0_col2\" class=\"data row0 col2\" >1338.00</td>\n",
       "      <td id=\"T_03876_row0_col3\" class=\"data row0 col3\" >1338.00</td>\n",
       "    </tr>\n",
       "    <tr>\n",
       "      <th id=\"T_03876_level0_row1\" class=\"row_heading level0 row1\" >mean</th>\n",
       "      <td id=\"T_03876_row1_col0\" class=\"data row1 col0\" >39.21</td>\n",
       "      <td id=\"T_03876_row1_col1\" class=\"data row1 col1\" >30.66</td>\n",
       "      <td id=\"T_03876_row1_col2\" class=\"data row1 col2\" >1.09</td>\n",
       "      <td id=\"T_03876_row1_col3\" class=\"data row1 col3\" >13270.42</td>\n",
       "    </tr>\n",
       "    <tr>\n",
       "      <th id=\"T_03876_level0_row2\" class=\"row_heading level0 row2\" >std</th>\n",
       "      <td id=\"T_03876_row2_col0\" class=\"data row2 col0\" >14.05</td>\n",
       "      <td id=\"T_03876_row2_col1\" class=\"data row2 col1\" >6.10</td>\n",
       "      <td id=\"T_03876_row2_col2\" class=\"data row2 col2\" >1.21</td>\n",
       "      <td id=\"T_03876_row2_col3\" class=\"data row2 col3\" >12110.01</td>\n",
       "    </tr>\n",
       "    <tr>\n",
       "      <th id=\"T_03876_level0_row3\" class=\"row_heading level0 row3\" >min</th>\n",
       "      <td id=\"T_03876_row3_col0\" class=\"data row3 col0\" >18.00</td>\n",
       "      <td id=\"T_03876_row3_col1\" class=\"data row3 col1\" >15.96</td>\n",
       "      <td id=\"T_03876_row3_col2\" class=\"data row3 col2\" >0.00</td>\n",
       "      <td id=\"T_03876_row3_col3\" class=\"data row3 col3\" >1121.87</td>\n",
       "    </tr>\n",
       "    <tr>\n",
       "      <th id=\"T_03876_level0_row4\" class=\"row_heading level0 row4\" >25%</th>\n",
       "      <td id=\"T_03876_row4_col0\" class=\"data row4 col0\" >27.00</td>\n",
       "      <td id=\"T_03876_row4_col1\" class=\"data row4 col1\" >26.30</td>\n",
       "      <td id=\"T_03876_row4_col2\" class=\"data row4 col2\" >0.00</td>\n",
       "      <td id=\"T_03876_row4_col3\" class=\"data row4 col3\" >4740.29</td>\n",
       "    </tr>\n",
       "    <tr>\n",
       "      <th id=\"T_03876_level0_row5\" class=\"row_heading level0 row5\" >50%</th>\n",
       "      <td id=\"T_03876_row5_col0\" class=\"data row5 col0\" >39.00</td>\n",
       "      <td id=\"T_03876_row5_col1\" class=\"data row5 col1\" >30.40</td>\n",
       "      <td id=\"T_03876_row5_col2\" class=\"data row5 col2\" >1.00</td>\n",
       "      <td id=\"T_03876_row5_col3\" class=\"data row5 col3\" >9382.03</td>\n",
       "    </tr>\n",
       "    <tr>\n",
       "      <th id=\"T_03876_level0_row6\" class=\"row_heading level0 row6\" >75%</th>\n",
       "      <td id=\"T_03876_row6_col0\" class=\"data row6 col0\" >51.00</td>\n",
       "      <td id=\"T_03876_row6_col1\" class=\"data row6 col1\" >34.69</td>\n",
       "      <td id=\"T_03876_row6_col2\" class=\"data row6 col2\" >2.00</td>\n",
       "      <td id=\"T_03876_row6_col3\" class=\"data row6 col3\" >16639.91</td>\n",
       "    </tr>\n",
       "    <tr>\n",
       "      <th id=\"T_03876_level0_row7\" class=\"row_heading level0 row7\" >max</th>\n",
       "      <td id=\"T_03876_row7_col0\" class=\"data row7 col0\" >64.00</td>\n",
       "      <td id=\"T_03876_row7_col1\" class=\"data row7 col1\" >53.13</td>\n",
       "      <td id=\"T_03876_row7_col2\" class=\"data row7 col2\" >5.00</td>\n",
       "      <td id=\"T_03876_row7_col3\" class=\"data row7 col3\" >63770.43</td>\n",
       "    </tr>\n",
       "  </tbody>\n",
       "</table>\n"
      ],
      "text/plain": [
       "<pandas.io.formats.style.Styler at 0x2236569eb80>"
      ]
     },
     "execution_count": 4,
     "metadata": {},
     "output_type": "execute_result"
    }
   ],
   "source": [
    "insurance.describe().style.format(\"{:.2f}\")"
   ]
  },
  {
   "cell_type": "markdown",
   "id": "03842ff7",
   "metadata": {},
   "source": [
    "The beneficiaries’ gender and region are evenly distributed, having their age ranging from 18 to 64 years old. The bmi has a \n",
    "minim of 16 and a maximum of 54. Non-smokers outnumber smokers 4 to 1. \n",
    "\n",
    "The average medical cost is USD 13,270, higher than the median value of USD 9382, indicating a right skewed distribution."
   ]
  },
  {
   "cell_type": "code",
   "execution_count": 5,
   "id": "64763ac1",
   "metadata": {},
   "outputs": [],
   "source": [
    "# Make a copy of dataframe\n",
    "insurance1 = insurance.copy()"
   ]
  },
  {
   "cell_type": "markdown",
   "id": "a92af3a8",
   "metadata": {},
   "source": [
    "## Data Preprocessing"
   ]
  },
  {
   "cell_type": "markdown",
   "id": "83c21d46",
   "metadata": {},
   "source": [
    "For data preprocessing I followed the steps below."
   ]
  },
  {
   "cell_type": "markdown",
   "id": "a17be08f",
   "metadata": {},
   "source": [
    "### Remove duplicates"
   ]
  },
  {
   "cell_type": "code",
   "execution_count": 13,
   "id": "fbbe04a9",
   "metadata": {},
   "outputs": [
    {
     "data": {
      "text/plain": [
       "False    1337\n",
       "dtype: int64"
      ]
     },
     "execution_count": 13,
     "metadata": {},
     "output_type": "execute_result"
    }
   ],
   "source": [
    "# Remove duplicates\n",
    "insurance = insurance.drop_duplicates()\n",
    "# Check that duplicates were removed\n",
    "insurance.duplicated().value_counts()"
   ]
  },
  {
   "cell_type": "markdown",
   "id": "79b36951",
   "metadata": {},
   "source": [
    "### Check for missing values"
   ]
  },
  {
   "cell_type": "code",
   "execution_count": 14,
   "id": "0b3654e1",
   "metadata": {},
   "outputs": [
    {
     "data": {
      "text/plain": [
       "age         0\n",
       "sex         0\n",
       "bmi         0\n",
       "children    0\n",
       "smoker      0\n",
       "region      0\n",
       "charges     0\n",
       "dtype: int64"
      ]
     },
     "execution_count": 14,
     "metadata": {},
     "output_type": "execute_result"
    }
   ],
   "source": [
    "insurance.isnull().sum()"
   ]
  },
  {
   "cell_type": "markdown",
   "id": "44754da4",
   "metadata": {},
   "source": [
    "The dataset has **no missing values**."
   ]
  },
  {
   "cell_type": "markdown",
   "id": "730bde0b",
   "metadata": {},
   "source": [
    "### Detect and Remove Outliers"
   ]
  },
  {
   "cell_type": "markdown",
   "id": "1699b3e5",
   "metadata": {},
   "source": [
    "We'll use **z-scores to detect the outliers**, since the **histogram of 'bmi'** has a **relatively normal distribution**."
   ]
  },
  {
   "cell_type": "code",
   "execution_count": 15,
   "id": "99697449",
   "metadata": {},
   "outputs": [
    {
     "name": "stdout",
     "output_type": "stream",
     "text": [
      "Data before removing outliers: 1337\n",
      "Data after removing outliers: 1333\n"
     ]
    }
   ],
   "source": [
    "# Getting z-scores from our data\n",
    "zscores = zscore(insurance.loc[:, 'bmi'])\n",
    "\n",
    "# Identifying Outliers with Z-scores\n",
    "threshold = 3\n",
    "outliers = insurance[np.abs(zscores) > threshold]\n",
    "\n",
    "# Removing Outliers with Z-scores\n",
    "non_outliers = insurance[np.abs(zscores) <= threshold]\n",
    "\n",
    "print(f'Data before removing outliers: {len(insurance)}')\n",
    "print(f'Data after removing outliers: {len(non_outliers)}')"
   ]
  },
  {
   "cell_type": "markdown",
   "id": "2fede7b3",
   "metadata": {},
   "source": [
    "### Binning 'age' variable"
   ]
  },
  {
   "cell_type": "code",
   "execution_count": 16,
   "id": "7a6b869e",
   "metadata": {},
   "outputs": [],
   "source": [
    "# Create custom bins\n",
    "bins_age = [17, 25, 40, 50, 65]\n",
    "# Label the bins\n",
    "age_categ = ['17-25', '25-40', '40-50', '50-65'] \n",
    "# Bin age variable\n",
    "binAge = pd.cut(insurance.loc[:, 'age'], bins_age, labels=age_categ)      \n",
    "insurance['age'] = binAge"
   ]
  },
  {
   "cell_type": "markdown",
   "id": "4f3c708b",
   "metadata": {},
   "source": [
    "### One-hot Encoding categorical variables"
   ]
  },
  {
   "cell_type": "code",
   "execution_count": 17,
   "id": "cc7184e4",
   "metadata": {},
   "outputs": [
    {
     "name": "stdout",
     "output_type": "stream",
     "text": [
      "(1337, 18)\n"
     ]
    }
   ],
   "source": [
    "# One-hot encoding categorical variables\n",
    "features = pd.get_dummies(insurance, columns=['age', 'children', 'region'])\n",
    "# Drop first values in columns sex and smoker\n",
    "features = pd.get_dummies(features, columns=['sex', 'smoker'], drop_first=True)\n",
    "\n",
    "print(features.shape)"
   ]
  },
  {
   "cell_type": "markdown",
   "id": "dab01ef9",
   "metadata": {},
   "source": [
    "### Normalize features"
   ]
  },
  {
   "cell_type": "code",
   "execution_count": 18,
   "id": "7ce408fd",
   "metadata": {},
   "outputs": [],
   "source": [
    "# Select columns to be normalized\n",
    "cols_normalize = ['bmi', 'charges']\n",
    "\n",
    "# Create a Numpy array with the values of columns\n",
    "x = features[cols_normalize].values\n",
    "\n",
    "# Initialize the scaler\n",
    "scaler = MinMaxScaler()\n",
    "\n",
    "# Fit and transform the data\n",
    "x_scaled = scaler.fit_transform(x)\n",
    "\n",
    "# Create a dataframe for normalized features\n",
    "features_temp = pd.DataFrame(x_scaled, \n",
    "                columns=cols_normalize, \n",
    "                index=features.index)\n",
    "\n",
    "# Replace columns in features dataframe \n",
    "# with normalized values\n",
    "features[cols_normalize] = features_temp"
   ]
  },
  {
   "cell_type": "markdown",
   "id": "de00d0bc",
   "metadata": {},
   "source": [
    "## Build  Regression Models"
   ]
  },
  {
   "cell_type": "markdown",
   "id": "722c8bcb",
   "metadata": {},
   "source": [
    "We'll build the following regression models to predict insurance costs:\n",
    "- **Linear Regression**\n",
    "- **Random Forest**\n",
    "- **Polynomial Regression**"
   ]
  },
  {
   "cell_type": "markdown",
   "id": "496c22c2",
   "metadata": {},
   "source": [
    "### Split the dataset in train and test data"
   ]
  },
  {
   "cell_type": "code",
   "execution_count": 19,
   "id": "c3dd3db4",
   "metadata": {},
   "outputs": [
    {
     "name": "stdout",
     "output_type": "stream",
     "text": [
      "X_train:  (935, 17)\n",
      "y_train:  (935,)\n",
      "X_test:  (402, 17)\n",
      "y_test:  (402,)\n"
     ]
    }
   ],
   "source": [
    "# Create the label\n",
    "y = features['charges']\n",
    "\n",
    "# Drop the column \"charges\"\n",
    "features = features.drop('charges', axis=1)\n",
    "\n",
    "# Make a list with all the columns in dataframe\n",
    "cols = list(features.columns)\n",
    "\n",
    "# Create the features dataframe\n",
    "X = features[cols]\n",
    "\n",
    "# Split the dataset into training \n",
    "# set (70%) and testing set (30%)\n",
    "X_train, X_test, y_train, y_test = train_test_split(X, y, \n",
    "                        test_size=0.3, random_state=123)\n",
    "\n",
    "# Print the shape of the training and testing datasets\n",
    "print('X_train: ', X_train.shape)\n",
    "print('y_train: ', y_train.shape)\n",
    "print('X_test: ', X_test.shape)\n",
    "print('y_test: ', y_test.shape)"
   ]
  },
  {
   "cell_type": "markdown",
   "id": "c31a6e5b",
   "metadata": {},
   "source": [
    "### Linear Regression"
   ]
  },
  {
   "cell_type": "code",
   "execution_count": 20,
   "id": "4992c222",
   "metadata": {},
   "outputs": [
    {
     "name": "stdout",
     "output_type": "stream",
     "text": [
      "Intercept: \n",
      " 1698521079710.9395\n",
      "Coefficients: \n",
      " [ 2.02744489e-01 -8.45226500e+11 -8.45226500e+11 -8.45226500e+11\n",
      " -8.45226500e+11 -3.00895247e+11 -3.00895247e+11 -3.00895247e+11\n",
      " -3.00895247e+11 -3.00895247e+11 -3.00895247e+11 -5.52399333e+11\n",
      " -5.52399333e+11 -5.52399333e+11 -5.52399333e+11 -4.60711042e-03\n",
      "  3.80042541e-01]\n",
      "\n",
      "Linear Regression metrics:\n",
      "MAE: 0.066\n",
      "MSE: 0.009\n",
      "RMSE: 0.092\n",
      "R-squared: 0.769\n"
     ]
    }
   ],
   "source": [
    "# Fit a linear regression model\n",
    "lr = LinearRegression()\n",
    "lr.fit(X_train, y_train)\n",
    "\n",
    "# Make predictions\n",
    "y_pred = lr.predict(X_test)\n",
    "\n",
    "# Print the intercept and \n",
    "# coeficients\n",
    "print(\"Intercept:\", \"\\n\", lr.intercept_)\n",
    "print(\"Coefficients:\", \"\\n\", lr.coef_)\n",
    "print()\n",
    "\n",
    "\n",
    "# Evaluate the model\n",
    "mae = mean_absolute_error(y_true=y_test, \n",
    "                          y_pred=y_pred) \n",
    "mse = mean_squared_error(y_true=y_test,\n",
    "                         y_pred=y_pred)                  \n",
    "rmse = mean_squared_error(y_true=y_test,\n",
    "                          y_pred=y_pred,\n",
    "                          squared=False) \n",
    "r2 = r2_score(y_true=y_test,\n",
    "              y_pred=y_pred)\n",
    "\n",
    "print(\"Linear Regression metrics:\")\n",
    "print(\"MAE: %.3f\" % mae) \n",
    "print(\"MSE: %.3f\" % mse) \n",
    "print(\"RMSE: %.3f\" % rmse)\n",
    "print(\"R-squared: %.3f\" % r2)"
   ]
  },
  {
   "cell_type": "markdown",
   "id": "ab4a1b84",
   "metadata": {},
   "source": [
    "The **R2 score** for **Linear Regression** has a good value of **0.77**."
   ]
  },
  {
   "cell_type": "markdown",
   "id": "f4d712ce",
   "metadata": {},
   "source": [
    "### Random Forest"
   ]
  },
  {
   "cell_type": "code",
   "execution_count": 21,
   "id": "a5a9c3f8",
   "metadata": {},
   "outputs": [
    {
     "name": "stdout",
     "output_type": "stream",
     "text": [
      "Random Forest metrics:\n",
      "MAE: 0.045\n",
      "MSE: 0.006\n",
      "RMSE: 0.074\n",
      "R-squared: 0.850\n"
     ]
    }
   ],
   "source": [
    "# Fit a random forest model\n",
    "forest = RandomForestRegressor(n_estimators = 100,\n",
    "                              criterion = 'squared_error',\n",
    "                              random_state = 1,\n",
    "                              n_jobs = -1)\n",
    "forest.fit(X_train, y_train)\n",
    "\n",
    "# Make predictions\n",
    "y_pred = forest.predict(X_test)\n",
    "\n",
    "# Evaluate the model\n",
    "mae = mean_absolute_error(y_true=y_test, \n",
    "                          y_pred=y_pred) \n",
    "mse = mean_squared_error(y_true=y_test,\n",
    "                         y_pred=y_pred)                  \n",
    "rmse = mean_squared_error(y_true=y_test,\n",
    "                          y_pred=y_pred,\n",
    "                          squared=False) \n",
    "r2 = r2_score(y_true=y_test,\n",
    "              y_pred=y_pred)\n",
    "\n",
    "print(\"Random Forest metrics:\")\n",
    "print(\"MAE: %.3f\" % mae) \n",
    "print(\"MSE: %.3f\" % mse) \n",
    "print(\"RMSE: %.3f\" % rmse)\n",
    "print(\"R-squared: %.3f\" % r2)"
   ]
  },
  {
   "cell_type": "markdown",
   "id": "b361fc22",
   "metadata": {},
   "source": [
    "**Random forest** model has a **higher score** than Linear Regression of **0.85**."
   ]
  },
  {
   "cell_type": "markdown",
   "id": "8d6dd442",
   "metadata": {},
   "source": [
    "### Polynomial Regression"
   ]
  },
  {
   "cell_type": "code",
   "execution_count": 22,
   "id": "26c050eb",
   "metadata": {},
   "outputs": [
    {
     "name": "stdout",
     "output_type": "stream",
     "text": [
      "Intercept: \n",
      " -24379.8511270221\n",
      "Coefficients: \n",
      " [ 0.00000000e+00 -3.59521612e+01  1.93210872e+03  4.05873171e+02\n",
      "  9.52698471e+03  3.04430186e+00  1.84508369e+00  6.01720286e+00\n",
      " -4.20849790e+00 -9.38983382e+00  3.81612289e+00 -1.40840670e+03\n",
      " -1.45982790e+02  4.46151855e+02  9.52698471e+03]\n",
      "\n",
      "Polynomial Regression metrics\n",
      "MAE: 2824.495\n",
      "MSE: 18895160.099\n",
      "RMSE: 4346.856\n",
      "R-squared: 0.881\n"
     ]
    }
   ],
   "source": [
    "# Map categories in smpker\n",
    "insurance1['smoker'] = insurance1['smoker'].map({'yes':0, 'no':1})\n",
    "\n",
    "X = insurance1.drop(['charges', 'sex', 'region'], axis = 1)\n",
    "y = insurance1.charges\n",
    "\n",
    "pol = PolynomialFeatures (degree = 2)\n",
    "X_pol = pol.fit_transform(X)\n",
    "\n",
    "# Split data\n",
    "X_train, X_test, y_train, y_test = train_test_split(X_pol, y, test_size=0.2, random_state=0)\n",
    "\n",
    "# Fit a polynomial regression model\n",
    "Pol_reg = LinearRegression()\n",
    "Pol_reg.fit(X_train, y_train)\n",
    "\n",
    "# Make predictions\n",
    "y_pred = Pol_reg.predict(X_test)\n",
    "\n",
    "# Print the intercept and \n",
    "# coeficients\n",
    "print(\"Intercept:\", \"\\n\", Pol_reg.intercept_)\n",
    "print(\"Coefficients:\", \"\\n\", Pol_reg.coef_)\n",
    "print()\n",
    "\n",
    "# Evaluate the model\n",
    "mae = mean_absolute_error(y_true=y_test, \n",
    "                          y_pred=y_pred) \n",
    "mse = mean_squared_error(y_true=y_test,\n",
    "                          y_pred=y_pred)                  \n",
    "rmse = mean_squared_error(y_true=y_test, \n",
    "                          y_pred=y_pred, \n",
    "                          squared=False) \n",
    "r2 = r2_score(y_true=y_test, \n",
    "              y_pred=y_pred)\n",
    "\n",
    "print(\"Polynomial Regression metrics\")\n",
    "print(\"MAE: %.3f\" % mae) \n",
    "print(\"MSE: %.3f\" % mse) \n",
    "print(\"RMSE: %.3f\" % rmse)\n",
    "print(\"R-squared: %.3f\" % r2)"
   ]
  },
  {
   "cell_type": "markdown",
   "id": "194ba97e",
   "metadata": {},
   "source": [
    "**Polynomial Regression** has an R2 score of **0.88**.\n",
    "\n",
    "This is the **best score** from **all models**, so **Polynomial Regression** is the **best model** for **predicting insurance \n",
    "costs**.\n",
    "\n",
    "If we consider the **Linear Regression**, as a **baseline model** (R2=0.77) and **Polynomial Regression**, as the **best model**\n",
    "(R2=0.88), we can calculate the forecast accuracy improvement percentage, using the MAE for both models. The result shows \n",
    "a 33% improvement.\n",
    "\n",
    "We can conclude that **Polynomial Regression** improved the **insurance forecast accuracy by 33%**, **increasing the R2 score \n",
    "from 0.77 to 0.88**."
   ]
  },
  {
   "cell_type": "markdown",
   "id": "8bd4ae0d",
   "metadata": {},
   "source": [
    "### Conclusions\n",
    "\n",
    "**Data visualization** allowed exploring the relationships between health insurance costs and several factors like age, \n",
    "health status (body mass index, smoking), gender, family size, and region. \n",
    "The main takeaway of the analysis is that **smoking has the highest impact on insurance charges**. Costs also **increase with \n",
    "BMI and age**. Insurance charges get **higher also for non-smokers** depending on **age, BMI**, and family size. \n",
    "\n",
    "Based on the findings from data exploration, I built and evaluated several regression models for predicting the insurance costs. \n",
    "**Polynomial Regression** achieved the **highest R2 score**, predicting the best patient's health insurance costs.\n",
    "\n",
    "Comparing the Linear Regression and Polynomial Regression models, it can be concluded that **Polynomial Regression** improved \n",
    "the **insurance forecast accuracy by 33%**, **increasing the R2 score from 0.77 to 0.88**."
   ]
  },
  {
   "cell_type": "code",
   "execution_count": null,
   "id": "894881d6",
   "metadata": {},
   "outputs": [],
   "source": []
  }
 ],
 "metadata": {
  "kernelspec": {
   "display_name": "Python 3 (ipykernel)",
   "language": "python",
   "name": "python3"
  },
  "language_info": {
   "codemirror_mode": {
    "name": "ipython",
    "version": 3
   },
   "file_extension": ".py",
   "mimetype": "text/x-python",
   "name": "python",
   "nbconvert_exporter": "python",
   "pygments_lexer": "ipython3",
   "version": "3.9.12"
  }
 },
 "nbformat": 4,
 "nbformat_minor": 5
}
